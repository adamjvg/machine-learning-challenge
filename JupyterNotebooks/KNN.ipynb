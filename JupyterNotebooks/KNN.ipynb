{
 "cells": [
  {
   "cell_type": "markdown",
   "metadata": {},
   "source": [
    "K Nearest Neighbour"
   ]
  },
  {
   "cell_type": "code",
   "execution_count": 2,
   "metadata": {},
   "outputs": [],
   "source": [
    "import pandas as pd\n",
    "import numpy as np\n",
    "from sklearn.model_selection import train_test_split, GridSearchCV\n",
    "from sklearn.preprocessing import LabelEncoder, MinMaxScaler\n",
    "from sklearn.feature_selection import RFECV\n",
    "from sklearn.neighbors import KNeighborsClassifier\n",
    "import joblib"
   ]
  },
  {
   "cell_type": "code",
   "execution_count": 3,
   "metadata": {},
   "outputs": [],
   "source": [
    "data = pd.read_csv(\"../Resources/exoplanet_data.csv\")\n",
    "\n",
    "# Drop null columns\n",
    "data = data.dropna(axis='columns', how='all')\n",
    "\n",
    "# Drop null rows\n",
    "data = data.dropna()\n",
    "\n",
    "# Convert dtypes of int64 to float64\n",
    "for column, content in data.items():\n",
    "    if data[column].dtype == 'int64':\n",
    "        data = data.astype({column: 'float64'})"
   ]
  },
  {
   "cell_type": "code",
   "execution_count": 4,
   "metadata": {},
   "outputs": [],
   "source": [
    "# Assign data to X and y\n",
    "X = data.drop(\"koi_disposition\", axis=1)\n",
    "y = data[\"koi_disposition\"]\n",
    "\n",
    "# Split data into training and testing groups\n",
    "X_train, X_test, y_train, y_test = train_test_split(X, y, random_state=42, stratify=y)"
   ]
  },
  {
   "cell_type": "code",
   "execution_count": 5,
   "metadata": {},
   "outputs": [],
   "source": [
    "X_scaler = MinMaxScaler().fit(X_train)\n",
    "X_train_scaled = X_scaler.transform(X_train)\n",
    "X_test_scaled = X_scaler.transform(X_test)"
   ]
  },
  {
   "cell_type": "markdown",
   "metadata": {},
   "source": [
    "Train the Model"
   ]
  },
  {
   "cell_type": "code",
   "execution_count": 6,
   "metadata": {},
   "outputs": [],
   "source": [
    "train_scores = []\n",
    "test_scores = []\n",
    "for k in range (1, 30, 2):\n",
    "    knn= KNeighborsClassifier(n_neighbors=k)\n",
    "    knn.fit(X_train_scaled, y_train)\n",
    "    train_score = knn.score(X_train_scaled, y_train)\n",
    "    test_score = knn.score(X_test_scaled, y_test)\n",
    "    train_scores.append(train_score)\n",
    "    test_scores.append(test_score)"
   ]
  },
  {
   "cell_type": "code",
   "execution_count": 7,
   "metadata": {},
   "outputs": [
    {
     "name": "stdout",
     "output_type": "stream",
     "text": [
      "k: 29,  Training Data Score: 0.832\n",
      "k: 29,  Testing Data Score: 0.824\n"
     ]
    }
   ],
   "source": [
    "print(f\"k: {k},  Training Data Score: {train_score:.3f}\")\n",
    "print(f\"k: {k},  Testing Data Score: {test_score:.3f}\")"
   ]
  },
  {
   "cell_type": "code",
   "execution_count": 12,
   "metadata": {},
   "outputs": [
    {
     "name": "stdout",
     "output_type": "stream",
     "text": [
      "Fitting 5 folds for each of 10 candidates, totalling 50 fits\n",
      "[CV 1/5] END .....................n_neighbors=3;, score=0.800 total time=   0.4s\n",
      "[CV 2/5] END .....................n_neighbors=3;, score=0.805 total time=   0.4s\n",
      "[CV 4/5] END .....................n_neighbors=3;, score=0.812 total time=   0.5s\n",
      "[CV 5/5] END .....................n_neighbors=3;, score=0.814 total time=   0.5s\n",
      "[CV 3/5] END .....................n_neighbors=3;, score=0.815 total time=   0.5s\n",
      "[CV 1/5] END .....................n_neighbors=5;, score=0.809 total time=   0.5s\n",
      "[CV 2/5] END .....................n_neighbors=5;, score=0.812 total time=   0.5s\n",
      "[CV 3/5] END .....................n_neighbors=5;, score=0.812 total time=   0.6s\n",
      "[CV 1/5] END .....................n_neighbors=7;, score=0.826 total time=   0.6s\n",
      "[CV 3/5] END .....................n_neighbors=7;, score=0.816 total time=   0.6s\n",
      "[CV 5/5] END .....................n_neighbors=5;, score=0.816 total time=   0.6s\n",
      "[CV 4/5] END .....................n_neighbors=5;, score=0.820 total time=   0.6s\n",
      "[CV 2/5] END .....................n_neighbors=7;, score=0.814 total time=   0.6s\n",
      "[CV 4/5] END .....................n_neighbors=7;, score=0.827 total time=   0.5s\n",
      "[CV 1/5] END .....................n_neighbors=9;, score=0.820 total time=   0.4s\n",
      "[CV 5/5] END .....................n_neighbors=7;, score=0.826 total time=   0.5s\n",
      "[CV 2/5] END .....................n_neighbors=9;, score=0.812 total time=   0.4s\n",
      "[CV 1/5] END ....................n_neighbors=11;, score=0.827 total time=   0.4s\n",
      "[CV 3/5] END .....................n_neighbors=9;, score=0.814 total time=   0.4s\n",
      "[CV 5/5] END .....................n_neighbors=9;, score=0.820 total time=   0.4s\n",
      "[CV 2/5] END ....................n_neighbors=11;, score=0.811 total time=   0.4s\n",
      "[CV 4/5] END .....................n_neighbors=9;, score=0.820 total time=   0.5s\n",
      "[CV 4/5] END ....................n_neighbors=11;, score=0.809 total time=   0.4s\n",
      "[CV 3/5] END ....................n_neighbors=11;, score=0.813 total time=   0.4s\n",
      "[CV 5/5] END ....................n_neighbors=11;, score=0.828 total time=   0.4s\n",
      "[CV 1/5] END ....................n_neighbors=13;, score=0.819 total time=   0.3s\n",
      "[CV 2/5] END ....................n_neighbors=13;, score=0.815 total time=   0.3s\n",
      "[CV 3/5] END ....................n_neighbors=13;, score=0.826 total time=   0.3s\n",
      "[CV 4/5] END ....................n_neighbors=13;, score=0.812 total time=   0.3s\n",
      "[CV 5/5] END ....................n_neighbors=13;, score=0.822 total time=   0.3s\n",
      "[CV 2/5] END ....................n_neighbors=15;, score=0.811 total time=   0.3s\n",
      "[CV 1/5] END ....................n_neighbors=15;, score=0.813 total time=   0.3s\n",
      "[CV 3/5] END ....................n_neighbors=15;, score=0.828 total time=   0.3s\n",
      "[CV 4/5] END ....................n_neighbors=15;, score=0.813 total time=   0.3s\n",
      "[CV 1/5] END ....................n_neighbors=17;, score=0.816 total time=   0.3s\n",
      "[CV 5/5] END ....................n_neighbors=15;, score=0.833 total time=   0.3s\n",
      "[CV 2/5] END ....................n_neighbors=17;, score=0.817 total time=   0.3s\n",
      "[CV 3/5] END ....................n_neighbors=17;, score=0.814 total time=   0.3s\n",
      "[CV 4/5] END ....................n_neighbors=17;, score=0.815 total time=   0.3s\n",
      "[CV 5/5] END ....................n_neighbors=17;, score=0.833 total time=   0.3s\n",
      "[CV 1/5] END ....................n_neighbors=19;, score=0.813 total time=   0.3s\n",
      "[CV 2/5] END ....................n_neighbors=19;, score=0.817 total time=   0.3s\n",
      "[CV 3/5] END ....................n_neighbors=19;, score=0.818 total time=   0.3s\n",
      "[CV 4/5] END ....................n_neighbors=19;, score=0.810 total time=   0.3s\n",
      "[CV 5/5] END ....................n_neighbors=19;, score=0.827 total time=   0.3s\n",
      "[CV 1/5] END ....................n_neighbors=21;, score=0.816 total time=   0.3s\n",
      "[CV 2/5] END ....................n_neighbors=21;, score=0.818 total time=   0.3s\n",
      "[CV 3/5] END ....................n_neighbors=21;, score=0.808 total time=   0.2s\n",
      "[CV 4/5] END ....................n_neighbors=21;, score=0.814 total time=   0.2s\n",
      "[CV 5/5] END ....................n_neighbors=21;, score=0.828 total time=   0.2s\n"
     ]
    }
   ],
   "source": [
    "param_grid = {\"n_neighbors\": [3,5,7,9,11,13,15,17,19,21]}\n",
    "\n",
    "tuned_model = GridSearchCV(knn, param_grid, verbose=3)\n",
    "grid = GridSearchCV(knn, param_grid, cv=5, verbose=3, n_jobs=-1)\n",
    "\n",
    "# Train the model with GridSearch\n",
    "_ = grid.fit(X_train_scaled, y_train)"
   ]
  },
  {
   "cell_type": "code",
   "execution_count": 13,
   "metadata": {},
   "outputs": [
    {
     "name": "stdout",
     "output_type": "stream",
     "text": [
      "Fitting 5 folds for each of 10 candidates, totalling 50 fits\n",
      "[CV 1/5] END .....................n_neighbors=3;, score=0.800 total time=   0.1s\n",
      "[CV 2/5] END .....................n_neighbors=3;, score=0.805 total time=   0.1s\n",
      "[CV 3/5] END .....................n_neighbors=3;, score=0.815 total time=   0.1s\n",
      "[CV 4/5] END .....................n_neighbors=3;, score=0.812 total time=   0.1s\n",
      "[CV 5/5] END .....................n_neighbors=3;, score=0.814 total time=   0.1s\n",
      "[CV 1/5] END .....................n_neighbors=5;, score=0.809 total time=   0.1s\n",
      "[CV 2/5] END .....................n_neighbors=5;, score=0.812 total time=   0.1s\n",
      "[CV 3/5] END .....................n_neighbors=5;, score=0.812 total time=   0.1s\n",
      "[CV 4/5] END .....................n_neighbors=5;, score=0.820 total time=   0.1s\n",
      "[CV 5/5] END .....................n_neighbors=5;, score=0.816 total time=   0.1s\n",
      "[CV 1/5] END .....................n_neighbors=7;, score=0.826 total time=   0.1s\n",
      "[CV 2/5] END .....................n_neighbors=7;, score=0.814 total time=   0.1s\n",
      "[CV 3/5] END .....................n_neighbors=7;, score=0.816 total time=   0.1s\n",
      "[CV 4/5] END .....................n_neighbors=7;, score=0.827 total time=   0.1s\n",
      "[CV 5/5] END .....................n_neighbors=7;, score=0.826 total time=   0.1s\n",
      "[CV 1/5] END .....................n_neighbors=9;, score=0.820 total time=   0.1s\n",
      "[CV 2/5] END .....................n_neighbors=9;, score=0.812 total time=   0.1s\n",
      "[CV 3/5] END .....................n_neighbors=9;, score=0.814 total time=   0.1s\n",
      "[CV 4/5] END .....................n_neighbors=9;, score=0.820 total time=   0.1s\n",
      "[CV 5/5] END .....................n_neighbors=9;, score=0.820 total time=   0.1s\n",
      "[CV 1/5] END ....................n_neighbors=11;, score=0.827 total time=   0.1s\n",
      "[CV 2/5] END ....................n_neighbors=11;, score=0.811 total time=   0.1s\n",
      "[CV 3/5] END ....................n_neighbors=11;, score=0.813 total time=   0.1s\n",
      "[CV 4/5] END ....................n_neighbors=11;, score=0.809 total time=   0.1s\n",
      "[CV 5/5] END ....................n_neighbors=11;, score=0.828 total time=   0.1s\n",
      "[CV 1/5] END ....................n_neighbors=13;, score=0.819 total time=   0.1s\n",
      "[CV 2/5] END ....................n_neighbors=13;, score=0.815 total time=   0.1s\n",
      "[CV 3/5] END ....................n_neighbors=13;, score=0.826 total time=   0.1s\n",
      "[CV 4/5] END ....................n_neighbors=13;, score=0.812 total time=   0.1s\n",
      "[CV 5/5] END ....................n_neighbors=13;, score=0.822 total time=   0.1s\n",
      "[CV 1/5] END ....................n_neighbors=15;, score=0.813 total time=   0.1s\n",
      "[CV 2/5] END ....................n_neighbors=15;, score=0.811 total time=   0.1s\n",
      "[CV 3/5] END ....................n_neighbors=15;, score=0.828 total time=   0.1s\n",
      "[CV 4/5] END ....................n_neighbors=15;, score=0.813 total time=   0.1s\n",
      "[CV 5/5] END ....................n_neighbors=15;, score=0.833 total time=   0.2s\n",
      "[CV 1/5] END ....................n_neighbors=17;, score=0.816 total time=   0.1s\n",
      "[CV 2/5] END ....................n_neighbors=17;, score=0.817 total time=   0.1s\n",
      "[CV 3/5] END ....................n_neighbors=17;, score=0.814 total time=   0.1s\n",
      "[CV 4/5] END ....................n_neighbors=17;, score=0.815 total time=   0.1s\n",
      "[CV 5/5] END ....................n_neighbors=17;, score=0.833 total time=   0.1s\n",
      "[CV 1/5] END ....................n_neighbors=19;, score=0.813 total time=   0.1s\n",
      "[CV 2/5] END ....................n_neighbors=19;, score=0.817 total time=   0.1s\n",
      "[CV 3/5] END ....................n_neighbors=19;, score=0.818 total time=   0.1s\n",
      "[CV 4/5] END ....................n_neighbors=19;, score=0.810 total time=   0.1s\n",
      "[CV 5/5] END ....................n_neighbors=19;, score=0.827 total time=   0.1s\n",
      "[CV 1/5] END ....................n_neighbors=21;, score=0.816 total time=   0.1s\n",
      "[CV 2/5] END ....................n_neighbors=21;, score=0.818 total time=   0.1s\n",
      "[CV 3/5] END ....................n_neighbors=21;, score=0.808 total time=   0.1s\n",
      "[CV 4/5] END ....................n_neighbors=21;, score=0.814 total time=   0.1s\n",
      "[CV 5/5] END ....................n_neighbors=21;, score=0.828 total time=   0.1s\n"
     ]
    },
    {
     "data": {
      "text/plain": [
       "GridSearchCV(estimator=KNeighborsClassifier(n_neighbors=29),\n",
       "             param_grid={'n_neighbors': [3, 5, 7, 9, 11, 13, 15, 17, 19, 21]},\n",
       "             verbose=3)"
      ]
     },
     "execution_count": 13,
     "metadata": {},
     "output_type": "execute_result"
    }
   ],
   "source": [
    "tuned_model.fit(X_train_scaled, y_train)"
   ]
  },
  {
   "cell_type": "code",
   "execution_count": 24,
   "metadata": {},
   "outputs": [
    {
     "name": "stdout",
     "output_type": "stream",
     "text": [
      "Training Data Score: 86.515 %\n",
      "Testing Data Score: 82.723 %\n"
     ]
    }
   ],
   "source": [
    "n_neighbors = grid.best_params_['n_neighbors']\n",
    "\n",
    "\n",
    "\n",
    "# Tuned model\n",
    "tuned_model = KNeighborsClassifier(n_neighbors = n_neighbors)\n",
    "tuned_model.fit(X_train_scaled, y_train)\n",
    "\n",
    "model_3_training_score = round(tuned_model.score(X_train_scaled, y_train)*100,3)\n",
    "tuned_accuracy = round(tuned_model.score(X_test_scaled, y_test)*100,3)\n",
    "\n",
    "print(f\"Training Data Score: {model_3_training_score} %\")\n",
    "print(f\"Testing Data Score: {tuned_accuracy} %\")"
   ]
  },
  {
   "cell_type": "code",
   "execution_count": 25,
   "metadata": {},
   "outputs": [],
   "source": [
    "filename = '../Models/KNN.sav'\n",
    "_ = joblib.dump(tuned_model, filename)"
   ]
  }
 ],
 "metadata": {
  "interpreter": {
   "hash": "4cf615de9974afece084faf78458a1ae7f20a05b69572f502f6e26661eb7da5d"
  },
  "kernelspec": {
   "display_name": "Python 3.9.7 ('base')",
   "language": "python",
   "name": "python3"
  },
  "language_info": {
   "codemirror_mode": {
    "name": "ipython",
    "version": 3
   },
   "file_extension": ".py",
   "mimetype": "text/x-python",
   "name": "python",
   "nbconvert_exporter": "python",
   "pygments_lexer": "ipython3",
   "version": "3.9.7"
  },
  "orig_nbformat": 4
 },
 "nbformat": 4,
 "nbformat_minor": 2
}
